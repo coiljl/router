{
 "cells": [
  {
   "cell_type": "markdown",
   "metadata": {},
   "source": [
    "# Router\n",
    "\n",
    "A HTTP Request router for coil"
   ]
  },
  {
   "cell_type": "code",
   "execution_count": 1,
   "metadata": {
    "collapsed": false
   },
   "outputs": [],
   "source": [
    "@require \".\" @route Request Response;"
   ]
  },
  {
   "cell_type": "markdown",
   "metadata": {},
   "source": [
    "## API"
   ]
  },
  {
   "cell_type": "markdown",
   "metadata": {},
   "source": [
    "### `@route(block::Expr)`\n",
    "\n",
    "Creates a new root `Router`, puts it in focus, and evaluates the expression. Inside the expression you should put some `@route(::Expr, ::String)` expressions. These will define routes on the `Router`. This form returns a function which dispatches HTTP requests to the routes defined on it.\n",
    "\n",
    "### `@route(handler::Expr, path::String)`\n",
    "\n",
    "Defines a new route on the in focus `Router`. The `handler` expression will be transformed into a generic method, enabling it to take advantage of Julia's dispatch mechanism to select the type of HTTP request you want the handler to respond to. Also any parameters defined in the path will be coerced to the types declared in the handler."
   ]
  },
  {
   "cell_type": "code",
   "execution_count": 2,
   "metadata": {
    "collapsed": false
   },
   "outputs": [
    {
     "data": {
      "text/plain": [
       "(anonymous function)"
      ]
     },
     "execution_count": 2,
     "metadata": {},
     "output_type": "execute_result"
    }
   ],
   "source": [
    "route = @route begin\n",
    "  @route(\"user/:(\\\\d+)\") do r::Request{:GET}, id::Int\n",
    "    Response(200, \"getting user #$id\")\n",
    "  end\n",
    "\n",
    "  @route(\"user/:(\\\\d+)\") do r::Request{:PUT}, id::Int\n",
    "    Response(200, \"putting user #$id\")\n",
    "  end\n",
    "end"
   ]
  },
  {
   "cell_type": "markdown",
   "metadata": {},
   "source": [
    "The returned function then just takes a `Request` object and dispatches to the correct handler based on the Uri path contained within the `Request`. The handler will then presumably return a HTTP `Response` its not enforced"
   ]
  },
  {
   "cell_type": "code",
   "execution_count": 3,
   "metadata": {
    "collapsed": false
   },
   "outputs": [
    {
     "data": {
      "text/plain": [
       "Response(200,Dict(\"Content-Length\"=>\"15\"),\"getting user #1\")"
      ]
     },
     "execution_count": 3,
     "metadata": {},
     "output_type": "execute_result"
    }
   ],
   "source": [
    "route(Request(IOBuffer(\"GET /user/1\")))"
   ]
  },
  {
   "cell_type": "code",
   "execution_count": 4,
   "metadata": {
    "collapsed": false
   },
   "outputs": [
    {
     "data": {
      "text/plain": [
       "Response(200,Dict(\"Content-Length\"=>\"15\"),\"putting user #1\")"
      ]
     },
     "execution_count": 4,
     "metadata": {},
     "output_type": "execute_result"
    }
   ],
   "source": [
    "route(Request(IOBuffer(\"PUT /user/1\")))"
   ]
  },
  {
   "cell_type": "markdown",
   "metadata": {},
   "source": [
    "### Error cases\n",
    "\n",
    "Invalid HTTP method results in a `405`"
   ]
  },
  {
   "cell_type": "code",
   "execution_count": 5,
   "metadata": {
    "collapsed": false
   },
   "outputs": [
    {
     "data": {
      "text/plain": [
       "Response(405,Dict(\"Allow\"=>\"GET, PUT\"),nothing)"
      ]
     },
     "execution_count": 5,
     "metadata": {},
     "output_type": "execute_result"
    }
   ],
   "source": [
    "route(Request(IOBuffer(\"DELETE /user/1\")))"
   ]
  },
  {
   "cell_type": "markdown",
   "metadata": {},
   "source": [
    "Unless it was an unhandled OPTIONS request. In which case it will be a `204`"
   ]
  },
  {
   "cell_type": "code",
   "execution_count": 6,
   "metadata": {
    "collapsed": false
   },
   "outputs": [
    {
     "data": {
      "text/plain": [
       "Response(204,Dict(\"Allow\"=>\"GET, PUT\"),nothing)"
      ]
     },
     "execution_count": 6,
     "metadata": {},
     "output_type": "execute_result"
    }
   ],
   "source": [
    "route(Request(IOBuffer(\"OPTIONS /user/1\")))"
   ]
  },
  {
   "cell_type": "markdown",
   "metadata": {},
   "source": [
    "An incorrect path will result in a `404` response and it will include a somewhat helpful message in the body"
   ]
  },
  {
   "cell_type": "code",
   "execution_count": 7,
   "metadata": {
    "collapsed": false
   },
   "outputs": [
    {
     "data": {
      "text/plain": [
       "Response(405,Dict(\"Allow\"=>\"GET, PUT\"),nothing)"
      ]
     },
     "execution_count": 7,
     "metadata": {},
     "output_type": "execute_result"
    }
   ],
   "source": [
    "route(Request(IOBuffer(\"GET /user\")))"
   ]
  },
  {
   "cell_type": "code",
   "execution_count": 8,
   "metadata": {
    "collapsed": false
   },
   "outputs": [
    {
     "data": {
      "text/plain": [
       "Response(404,Dict(\"Content-Length\"=>\"12\"),\"invalid path\")"
      ]
     },
     "execution_count": 8,
     "metadata": {},
     "output_type": "execute_result"
    }
   ],
   "source": [
    "route(Request(IOBuffer(\"GET /users\")))"
   ]
  }
 ],
 "metadata": {
  "kernelspec": {
   "display_name": "Julia 0.4.3",
   "language": "julia",
   "name": "julia-0.4"
  },
  "language_info": {
   "file_extension": ".jl",
   "mimetype": "application/julia",
   "name": "julia",
   "version": "0.4.3"
  }
 },
 "nbformat": 4,
 "nbformat_minor": 0
}
