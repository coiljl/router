{
 "cells": [
  {
   "cell_type": "markdown",
   "metadata": {},
   "source": [
    "# Router\n",
    "\n",
    "A HTTP Request router for coil"
   ]
  },
  {
   "cell_type": "code",
   "execution_count": 1,
   "metadata": {
    "collapsed": false
   },
   "outputs": [],
   "source": [
    "@require \".\" @route router Request Response;"
   ]
  },
  {
   "cell_type": "markdown",
   "metadata": {},
   "source": [
    "## API"
   ]
  },
  {
   "cell_type": "markdown",
   "metadata": {},
   "source": [
    "### `@route(fn, router, path)`\n",
    "\n",
    "This macro is purely here to save you having to come up with names for the functions which handle requests"
   ]
  },
  {
   "cell_type": "code",
   "execution_count": 2,
   "metadata": {
    "collapsed": false
   },
   "outputs": [],
   "source": [
    "@route(router, \"user/:(\\\\d+)\") do r::Request{:GET}, id::Int\n",
    "  Response(200, \"getting user #$id\")\n",
    "end\n",
    "\n",
    "@route(router, \"user/:(\\\\d+)\") do r::Request{:PUT}, id::Int\n",
    "  Response(200, \"putting user #$id\")\n",
    "end;"
   ]
  },
  {
   "cell_type": "markdown",
   "metadata": {},
   "source": [
    "The router can then be called with a `Request` object and it will dispatch to the correct handler based on the Uri path contained within the `Request`. The handler will then presumably return a HTTP `Response` but it's not enforced"
   ]
  },
  {
   "cell_type": "code",
   "execution_count": 3,
   "metadata": {
    "collapsed": false
   },
   "outputs": [
    {
     "data": {
      "text/plain": [
       "Response(200,Dict(\"Content-Length\"=>\"15\"),\"getting user #1\")"
      ]
     },
     "execution_count": 3,
     "metadata": {},
     "output_type": "execute_result"
    }
   ],
   "source": [
    "router(Request(IOBuffer(\"GET /user/1\")))"
   ]
  },
  {
   "cell_type": "code",
   "execution_count": 4,
   "metadata": {
    "collapsed": false
   },
   "outputs": [
    {
     "data": {
      "text/plain": [
       "Response(200,Dict(\"Content-Length\"=>\"15\"),\"putting user #1\")"
      ]
     },
     "execution_count": 4,
     "metadata": {},
     "output_type": "execute_result"
    }
   ],
   "source": [
    "router(Request(IOBuffer(\"PUT /user/1\")))"
   ]
  },
  {
   "cell_type": "markdown",
   "metadata": {},
   "source": [
    "### Error cases\n",
    "\n",
    "Invalid HTTP method results in a `405`"
   ]
  },
  {
   "cell_type": "code",
   "execution_count": 5,
   "metadata": {
    "collapsed": false
   },
   "outputs": [
    {
     "data": {
      "text/plain": [
       "Response(405,Dict(\"Allow\"=>\"GET, PUT\"),nothing)"
      ]
     },
     "execution_count": 5,
     "metadata": {},
     "output_type": "execute_result"
    }
   ],
   "source": [
    "router(Request(IOBuffer(\"DELETE /user/1\")))"
   ]
  },
  {
   "cell_type": "markdown",
   "metadata": {},
   "source": [
    "Unless it was an unhandled OPTIONS request. In which case it will be a `204`"
   ]
  },
  {
   "cell_type": "code",
   "execution_count": 6,
   "metadata": {
    "collapsed": false
   },
   "outputs": [
    {
     "data": {
      "text/plain": [
       "Response(204,Dict(\"Allow\"=>\"GET, PUT\"),nothing)"
      ]
     },
     "execution_count": 6,
     "metadata": {},
     "output_type": "execute_result"
    }
   ],
   "source": [
    "router(Request(IOBuffer(\"OPTIONS /user/1\")))"
   ]
  },
  {
   "cell_type": "markdown",
   "metadata": {},
   "source": [
    "An incorrect path will result in a `404` response and it will include a somewhat helpful message in the body"
   ]
  },
  {
   "cell_type": "code",
   "execution_count": 7,
   "metadata": {
    "collapsed": false
   },
   "outputs": [
    {
     "data": {
      "text/plain": [
       "Response(405,Dict(\"Allow\"=>\"\"),nothing)"
      ]
     },
     "execution_count": 7,
     "metadata": {},
     "output_type": "execute_result"
    }
   ],
   "source": [
    "router(Request(IOBuffer(\"GET /user\")))"
   ]
  },
  {
   "cell_type": "code",
   "execution_count": 8,
   "metadata": {
    "collapsed": false
   },
   "outputs": [
    {
     "data": {
      "text/plain": [
       "Response(404,Dict(\"Content-Length\"=>\"12\"),\"invalid path\")"
      ]
     },
     "execution_count": 8,
     "metadata": {},
     "output_type": "execute_result"
    }
   ],
   "source": [
    "router(Request(IOBuffer(\"GET /users\")))"
   ]
  }
 ],
 "metadata": {
  "kernelspec": {
   "display_name": "Julia 0.4.3",
   "language": "julia",
   "name": "julia-0.4"
  },
  "language_info": {
   "file_extension": ".jl",
   "mimetype": "application/julia",
   "name": "julia",
   "version": "0.4.3"
  }
 },
 "nbformat": 4,
 "nbformat_minor": 0
}
