{
 "metadata": {
  "language": "Julia",
  "name": "",
  "signature": "sha256:4fc50ea80cf6704edca1f69a76c06d69aab436e880a839ed903c6404aa911eee"
 },
 "nbformat": 3,
 "nbformat_minor": 0,
 "worksheets": [
  {
   "cells": [
    {
     "cell_type": "markdown",
     "metadata": {},
     "source": [
      "# Router\n",
      "\n",
      "A HTTP Request router for coil\n",
      "\n",
      "## Installation\n",
      "\n",
      "With [packin](//github.com/jkroso/packin): `packin add coiljl/router`"
     ]
    },
    {
     "cell_type": "code",
     "collapsed": false,
     "input": [
      "@require \"router\" @route;"
     ],
     "language": "python",
     "metadata": {},
     "outputs": [],
     "prompt_number": 1
    },
    {
     "cell_type": "markdown",
     "metadata": {},
     "source": [
      "## API"
     ]
    },
    {
     "cell_type": "markdown",
     "metadata": {},
     "source": [
      "### `@route(block::Expr)`\n",
      "\n",
      "Creates a new root `Router`, puts it in focus, and evaluates the expression. Inside the expression you should put some `@route(::Expr, ::String)` expressions. These will define routes on the `Router`. This form returns a function which dispatches HTTP requests to the routes defined on it.\n",
      "\n",
      "### `@route(handler::Expr, path::String)`\n",
      "\n",
      "Defines a new route on the in focus `Router`. The `handler` expression will be transformed into a generic method, enabling it to take advantage of Julia's dispatch mechanism to select the type of HTTP request you want the handler to respond to. Also any parameters defined in the path will be coerced to the types declared in the handler."
     ]
    },
    {
     "cell_type": "code",
     "collapsed": false,
     "input": [
      "@require \"Response\" Response\n",
      "@require \"Request\" Request\n",
      "\n",
      "route = @route begin\n",
      "  @route(\"user/:(\\\\d+)\") do r::Request{:GET}, id::Int\n",
      "    Response(200, \"getting user #$id\")\n",
      "  end\n",
      "\n",
      "  @route(\"user/:(\\\\d+)\") do r::Request{:PUT}, id::Int\n",
      "    Response(200, \"putting user #$id\")\n",
      "  end\n",
      "end"
     ],
     "language": "python",
     "metadata": {},
     "outputs": [
      {
       "metadata": {},
       "output_type": "pyout",
       "prompt_number": 2,
       "text": [
        "(anonymous function)"
       ]
      }
     ],
     "prompt_number": 2
    },
    {
     "cell_type": "markdown",
     "metadata": {},
     "source": [
      "The returned function then just takes a `Request` object and dispatches to the correct handler based on the Uri path contained within the `Request`. The handler will then presumably return a HTTP `Response` its not enforced"
     ]
    },
    {
     "cell_type": "code",
     "collapsed": false,
     "input": [
      "route(Request(IOBuffer(\"GET /user/1\")))"
     ],
     "language": "python",
     "metadata": {},
     "outputs": [
      {
       "metadata": {},
       "output_type": "pyout",
       "prompt_number": 3,
       "text": [
        "Response{ASCIIString}(200,Dict{Any,Any}(),\"getting user #1\")"
       ]
      }
     ],
     "prompt_number": 3
    },
    {
     "cell_type": "code",
     "collapsed": false,
     "input": [
      "route(Request(IOBuffer(\"PUT /user/1\")))"
     ],
     "language": "python",
     "metadata": {},
     "outputs": [
      {
       "metadata": {},
       "output_type": "pyout",
       "prompt_number": 4,
       "text": [
        "Response{ASCIIString}(200,Dict{Any,Any}(),\"putting user #1\")"
       ]
      }
     ],
     "prompt_number": 4
    },
    {
     "cell_type": "markdown",
     "metadata": {},
     "source": [
      "### Error cases\n",
      "\n",
      "Invalid HTTP method results in a `405`"
     ]
    },
    {
     "cell_type": "code",
     "collapsed": false,
     "input": [
      "route(Request(IOBuffer(\"DELETE /user/1\")))"
     ],
     "language": "python",
     "metadata": {},
     "outputs": [
      {
       "metadata": {},
       "output_type": "pyout",
       "prompt_number": 5,
       "text": [
        "Response{Nothing}(405,[\"Allow\"=>\"GET, PUT\"],nothing)"
       ]
      }
     ],
     "prompt_number": 5
    },
    {
     "cell_type": "markdown",
     "metadata": {},
     "source": [
      "Unless it was an unhandled OPTIONS request. In which case it will be a `204`"
     ]
    },
    {
     "cell_type": "code",
     "collapsed": false,
     "input": [
      "route(Request(IOBuffer(\"OPTIONS /user/1\")))"
     ],
     "language": "python",
     "metadata": {},
     "outputs": [
      {
       "metadata": {},
       "output_type": "pyout",
       "prompt_number": 6,
       "text": [
        "Response{Nothing}(204,[\"Allow\"=>\"GET, PUT\"],nothing)"
       ]
      }
     ],
     "prompt_number": 6
    },
    {
     "cell_type": "markdown",
     "metadata": {},
     "source": [
      "An incorrect path will result in a `404` response and it will include a somewhat helpful message in the body"
     ]
    },
    {
     "cell_type": "code",
     "collapsed": false,
     "input": [
      "route(Request(IOBuffer(\"GET /user\")))"
     ],
     "language": "python",
     "metadata": {},
     "outputs": [
      {
       "metadata": {},
       "output_type": "pyout",
       "prompt_number": 7,
       "text": [
        "Response{ASCIIString}(404,Dict{Any,Any}(),\"incomplete path\")"
       ]
      }
     ],
     "prompt_number": 7
    },
    {
     "cell_type": "code",
     "collapsed": false,
     "input": [
      "route(Request(IOBuffer(\"GET /users\")))"
     ],
     "language": "python",
     "metadata": {},
     "outputs": [
      {
       "metadata": {},
       "output_type": "pyout",
       "prompt_number": 8,
       "text": [
        "Response{ASCIIString}(404,Dict{Any,Any}(),\"invalid path\")"
       ]
      }
     ],
     "prompt_number": 8
    }
   ],
   "metadata": {}
  }
 ]
}